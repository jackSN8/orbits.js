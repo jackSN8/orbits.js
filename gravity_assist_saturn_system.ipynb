{
 "cells": [
  {
   "cell_type": "code",
   "execution_count": 1,
   "id": "46dd4f5e",
   "metadata": {},
   "outputs": [
    {
     "name": "stderr",
     "output_type": "stream",
     "text": [
      "c:\\Users\\jacki\\miniforge-pypy3\\envs\\python_3.9\\lib\\site-packages\\poliastro\\core\\_jit.py:29: UserWarning: Could not import numba package. All poliastro functions will work properly but the CPU intensive algorithms will be slow. Consider installing numba to boost performance.\n",
      "  warnings.warn(\n"
     ]
    },
    {
     "data": {
      "text/plain": [
       "<ScienceState solar_system_ephemeris: 'jpl'>"
      ]
     },
     "execution_count": 1,
     "metadata": {},
     "output_type": "execute_result"
    }
   ],
   "source": [
    "from astropy import units as u\n",
    "from astropy import time\n",
    "\n",
    "import numpy as np\n",
    "\n",
    "from poliastro import iod\n",
    "from poliastro.bodies import Saturn, Titan\n",
    "from poliastro.ephem import Ephem\n",
    "from poliastro.maneuver import Maneuver\n",
    "from poliastro.twobody import Orbit\n",
    "from poliastro.util import time_range\n",
    "from poliastro.plotting import OrbitPlotter3D, StaticOrbitPlotter\n",
    "import math\n",
    "import matplotlib.pyplot as plt\n",
    "# More info: https://plotly.com/python/renderers/\n",
    "import plotly.io as pio\n",
    "\n",
    "pio.renderers.default = \"plotly_mimetype+notebook_connected\"\n",
    "\n",
    "from astropy.coordinates import solar_system_ephemeris\n",
    "\n",
    "\n",
    "solar_system_ephemeris.set(\"jpl\")"
   ]
  }
 ],
 "metadata": {
  "kernelspec": {
   "display_name": "python_3.9",
   "language": "python",
   "name": "python3"
  },
  "language_info": {
   "codemirror_mode": {
    "name": "ipython",
    "version": 3
   },
   "file_extension": ".py",
   "mimetype": "text/x-python",
   "name": "python",
   "nbconvert_exporter": "python",
   "pygments_lexer": "ipython3",
   "version": "3.9.21"
  }
 },
 "nbformat": 4,
 "nbformat_minor": 5
}
